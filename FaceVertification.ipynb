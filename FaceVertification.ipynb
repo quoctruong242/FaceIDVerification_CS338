{
 "cells": [
  {
   "cell_type": "markdown",
   "id": "b246d9eb",
   "metadata": {},
   "source": [
    "# Face ID Detection With Customize Data\n",
    "\n",
    "**References Source: https://github.com/mdsarfarazulh/face-verification-facenet-mtcnn**"
   ]
  },
  {
   "cell_type": "markdown",
   "id": "93089b94",
   "metadata": {},
   "source": [
    "### Install necessary package"
   ]
  },
  {
   "cell_type": "code",
   "execution_count": 1,
   "id": "a98c5839",
   "metadata": {},
   "outputs": [
    {
     "name": "stdout",
     "output_type": "stream",
     "text": [
      "Requirement already satisfied: mtcnn in c:\\users\\truong\\anaconda3\\lib\\site-packages (0.1.1)\n",
      "Requirement already satisfied: opencv-python>=4.1.0 in c:\\users\\truong\\anaconda3\\lib\\site-packages (from mtcnn) (4.5.3.56)\n",
      "Requirement already satisfied: keras>=2.0.0 in c:\\users\\truong\\anaconda3\\lib\\site-packages (from mtcnn) (2.8.0)\n",
      "Requirement already satisfied: numpy>=1.17.3 in c:\\users\\truong\\anaconda3\\lib\\site-packages (from opencv-python>=4.1.0->mtcnn) (1.20.1)\n"
     ]
    }
   ],
   "source": [
    "!pip install mtcnn\n",
    "# Note! Skiping step when having this available package"
   ]
  },
  {
   "cell_type": "code",
   "execution_count": 2,
   "id": "4258bd96",
   "metadata": {},
   "outputs": [
    {
     "name": "stdout",
     "output_type": "stream",
     "text": [
      "Requirement already satisfied: tensorflow in c:\\users\\truong\\anaconda3\\lib\\site-packages (2.8.0)\n",
      "Requirement already satisfied: termcolor>=1.1.0 in c:\\users\\truong\\anaconda3\\lib\\site-packages (from tensorflow) (1.1.0)\n",
      "Requirement already satisfied: tensorflow-io-gcs-filesystem>=0.23.1 in c:\\users\\truong\\anaconda3\\lib\\site-packages (from tensorflow) (0.24.0)\n",
      "Requirement already satisfied: astunparse>=1.6.0 in c:\\users\\truong\\anaconda3\\lib\\site-packages (from tensorflow) (1.6.3)\n",
      "Requirement already satisfied: h5py>=2.9.0 in c:\\users\\truong\\anaconda3\\lib\\site-packages (from tensorflow) (2.10.0)\n",
      "Requirement already satisfied: numpy>=1.20 in c:\\users\\truong\\anaconda3\\lib\\site-packages (from tensorflow) (1.20.1)\n",
      "Requirement already satisfied: keras-preprocessing>=1.1.1 in c:\\users\\truong\\anaconda3\\lib\\site-packages (from tensorflow) (1.1.2)\n",
      "Requirement already satisfied: six>=1.12.0 in c:\\users\\truong\\anaconda3\\lib\\site-packages (from tensorflow) (1.15.0)\n",
      "Requirement already satisfied: wrapt>=1.11.0 in c:\\users\\truong\\anaconda3\\lib\\site-packages (from tensorflow) (1.12.1)\n",
      "Requirement already satisfied: absl-py>=0.4.0 in c:\\users\\truong\\appdata\\roaming\\python\\python38\\site-packages (from tensorflow) (0.15.0)\n",
      "Requirement already satisfied: opt-einsum>=2.3.2 in c:\\users\\truong\\anaconda3\\lib\\site-packages (from tensorflow) (3.3.0)\n",
      "Requirement already satisfied: tensorboard<2.9,>=2.8 in c:\\users\\truong\\anaconda3\\lib\\site-packages (from tensorflow) (2.8.0)\n",
      "Requirement already satisfied: keras<2.9,>=2.8.0rc0 in c:\\users\\truong\\anaconda3\\lib\\site-packages (from tensorflow) (2.8.0)\n",
      "Requirement already satisfied: libclang>=9.0.1 in c:\\users\\truong\\anaconda3\\lib\\site-packages (from tensorflow) (13.0.0)\n",
      "Requirement already satisfied: typing-extensions>=3.6.6 in c:\\users\\truong\\anaconda3\\lib\\site-packages (from tensorflow) (3.7.4.3)\n",
      "Requirement already satisfied: tf-estimator-nightly==2.8.0.dev2021122109 in c:\\users\\truong\\anaconda3\\lib\\site-packages (from tensorflow) (2.8.0.dev2021122109)\n",
      "Requirement already satisfied: protobuf>=3.9.2 in c:\\users\\truong\\appdata\\roaming\\python\\python38\\site-packages (from tensorflow) (3.19.0)\n",
      "Requirement already satisfied: setuptools in c:\\users\\truong\\anaconda3\\lib\\site-packages (from tensorflow) (52.0.0.post20210125)\n",
      "Requirement already satisfied: google-pasta>=0.1.1 in c:\\users\\truong\\anaconda3\\lib\\site-packages (from tensorflow) (0.2.0)\n",
      "Requirement already satisfied: flatbuffers>=1.12 in c:\\users\\truong\\anaconda3\\lib\\site-packages (from tensorflow) (2.0)\n",
      "Requirement already satisfied: gast>=0.2.1 in c:\\users\\truong\\anaconda3\\lib\\site-packages (from tensorflow) (0.5.3)\n",
      "Requirement already satisfied: grpcio<2.0,>=1.24.3 in c:\\users\\truong\\anaconda3\\lib\\site-packages (from tensorflow) (1.44.0)\n",
      "Requirement already satisfied: wheel<1.0,>=0.23.0 in c:\\users\\truong\\anaconda3\\lib\\site-packages (from astunparse>=1.6.0->tensorflow) (0.36.2)\n",
      "Requirement already satisfied: google-auth<3,>=1.6.3 in c:\\users\\truong\\anaconda3\\lib\\site-packages (from tensorboard<2.9,>=2.8->tensorflow) (2.6.3)\n",
      "Requirement already satisfied: requests<3,>=2.21.0 in c:\\users\\truong\\anaconda3\\lib\\site-packages (from tensorboard<2.9,>=2.8->tensorflow) (2.25.1)\n",
      "Requirement already satisfied: werkzeug>=0.11.15 in c:\\users\\truong\\anaconda3\\lib\\site-packages (from tensorboard<2.9,>=2.8->tensorflow) (1.0.1)\n",
      "Requirement already satisfied: markdown>=2.6.8 in c:\\users\\truong\\anaconda3\\lib\\site-packages (from tensorboard<2.9,>=2.8->tensorflow) (3.3.6)\n",
      "Requirement already satisfied: tensorboard-data-server<0.7.0,>=0.6.0 in c:\\users\\truong\\anaconda3\\lib\\site-packages (from tensorboard<2.9,>=2.8->tensorflow) (0.6.1)\n",
      "Requirement already satisfied: google-auth-oauthlib<0.5,>=0.4.1 in c:\\users\\truong\\anaconda3\\lib\\site-packages (from tensorboard<2.9,>=2.8->tensorflow) (0.4.6)\n",
      "Requirement already satisfied: tensorboard-plugin-wit>=1.6.0 in c:\\users\\truong\\anaconda3\\lib\\site-packages (from tensorboard<2.9,>=2.8->tensorflow) (1.8.1)\n",
      "Requirement already satisfied: rsa<5,>=3.1.4 in c:\\users\\truong\\anaconda3\\lib\\site-packages (from google-auth<3,>=1.6.3->tensorboard<2.9,>=2.8->tensorflow) (4.8)\n",
      "Requirement already satisfied: pyasn1-modules>=0.2.1 in c:\\users\\truong\\anaconda3\\lib\\site-packages (from google-auth<3,>=1.6.3->tensorboard<2.9,>=2.8->tensorflow) (0.2.8)\n",
      "Requirement already satisfied: cachetools<6.0,>=2.0.0 in c:\\users\\truong\\anaconda3\\lib\\site-packages (from google-auth<3,>=1.6.3->tensorboard<2.9,>=2.8->tensorflow) (5.0.0)\n",
      "Requirement already satisfied: requests-oauthlib>=0.7.0 in c:\\users\\truong\\anaconda3\\lib\\site-packages (from google-auth-oauthlib<0.5,>=0.4.1->tensorboard<2.9,>=2.8->tensorflow) (1.3.1)\n",
      "Requirement already satisfied: importlib-metadata>=4.4 in c:\\users\\truong\\anaconda3\\lib\\site-packages (from markdown>=2.6.8->tensorboard<2.9,>=2.8->tensorflow) (4.11.3)\n",
      "Requirement already satisfied: zipp>=0.5 in c:\\users\\truong\\anaconda3\\lib\\site-packages (from importlib-metadata>=4.4->markdown>=2.6.8->tensorboard<2.9,>=2.8->tensorflow) (3.4.1)\n",
      "Requirement already satisfied: pyasn1<0.5.0,>=0.4.6 in c:\\users\\truong\\anaconda3\\lib\\site-packages (from pyasn1-modules>=0.2.1->google-auth<3,>=1.6.3->tensorboard<2.9,>=2.8->tensorflow) (0.4.8)\n",
      "Requirement already satisfied: chardet<5,>=3.0.2 in c:\\users\\truong\\anaconda3\\lib\\site-packages (from requests<3,>=2.21.0->tensorboard<2.9,>=2.8->tensorflow) (4.0.0)\n",
      "Requirement already satisfied: urllib3<1.27,>=1.21.1 in c:\\users\\truong\\anaconda3\\lib\\site-packages (from requests<3,>=2.21.0->tensorboard<2.9,>=2.8->tensorflow) (1.26.4)\n",
      "Requirement already satisfied: certifi>=2017.4.17 in c:\\users\\truong\\anaconda3\\lib\\site-packages (from requests<3,>=2.21.0->tensorboard<2.9,>=2.8->tensorflow) (2020.12.5)\n",
      "Requirement already satisfied: idna<3,>=2.5 in c:\\users\\truong\\anaconda3\\lib\\site-packages (from requests<3,>=2.21.0->tensorboard<2.9,>=2.8->tensorflow) (2.10)\n",
      "Requirement already satisfied: oauthlib>=3.0.0 in c:\\users\\truong\\anaconda3\\lib\\site-packages (from requests-oauthlib>=0.7.0->google-auth-oauthlib<0.5,>=0.4.1->tensorboard<2.9,>=2.8->tensorflow) (3.2.0)\n"
     ]
    }
   ],
   "source": [
    "!pip install tensorflow"
   ]
  },
  {
   "cell_type": "markdown",
   "id": "e9ba695f",
   "metadata": {},
   "source": [
    "### Importing necessaty librarys"
   ]
  },
  {
   "cell_type": "code",
   "execution_count": 1,
   "id": "1a219efd",
   "metadata": {},
   "outputs": [],
   "source": [
    "# example of using the vgg16 model as a feature extraction model\n",
    "from keras.preprocessing.image import load_img\n",
    "from keras.preprocessing.image import img_to_array\n",
    "from keras.applications.vgg16 import preprocess_input\n",
    "from keras.applications.vgg16 import decode_predictions\n",
    "from keras.applications.vgg16 import VGG16\n",
    "from keras.models import Model\n",
    "from pickle import dump\n",
    "import os\n",
    "import cv2\n",
    "import numpy as np\n",
    "import cv2\n",
    "import numpy as np \n",
    "\n",
    "from mtcnn.mtcnn import MTCNN\n",
    "import pickle\n",
    "import os.path"
   ]
  },
  {
   "cell_type": "markdown",
   "id": "2bf8486d",
   "metadata": {},
   "source": [
    "### Preprocessing image and Extracting feature"
   ]
  },
  {
   "cell_type": "code",
   "execution_count": 2,
   "id": "defc3e3f",
   "metadata": {},
   "outputs": [],
   "source": [
    "def preproces_image(path):\n",
    "    \n",
    "  # load an image from file\n",
    "    image = load_img(path, target_size=(224, 224))\n",
    "    image = image.resize((224,224))\n",
    "  # convert the image pixels to a numpy array\n",
    "    image = img_to_array(image)\n",
    "  # reshape data for the model\n",
    "  #image = image.reshape((1, image.shape[0], image.shape[1], image.shape[2]))\n",
    "    image = np.expand_dims(image, axis = 0)\n",
    "  # prepare the image for the VGG model\n",
    "    image = preprocess_input(image)\n",
    "    return image\n",
    "\n",
    "def feature_extract(model, image):\n",
    "    features = model.predict(image)[0]\n",
    "  # Vector normalization\n",
    "    features = features / np.linalg.norm(features)\n",
    "    return features\n",
    "\n",
    "### This case, we you VGG16 model pre-train to extracting features.\n",
    "\n",
    "# load model\n",
    "model = VGG16()\n",
    "# remove the output layer\n",
    "model = Model(inputs=model.inputs, outputs=model.layers[-2].output)"
   ]
  },
  {
   "cell_type": "code",
   "execution_count": 3,
   "id": "77277e94",
   "metadata": {},
   "outputs": [
    {
     "name": "stdout",
     "output_type": "stream",
     "text": [
      "Loading data!\n"
     ]
    }
   ],
   "source": [
    "# Using MTCNN model as detector to detecting face in each frame\n",
    "detector = MTCNN()\n",
    "\n",
    "# Upload file contain vector of face previous extracted\n",
    "p_file = \"vectors.pkl\"\n",
    "\n",
    "# Set some parameters\n",
    "font = cv2.FONT_HERSHEY_DUPLEX\n",
    "color = (0, 255, 255)\n",
    "line = cv2.LINE_AA\n",
    "\n",
    "# Setting the threshold value.\n",
    "threshold = 15.0\n",
    "\n",
    "def get_euclidean(X, Y):\n",
    "    return np.sqrt(np.sum(np.square(np.subtract(X, Y))))\n",
    "\n",
    "with open(p_file, 'rb') as f:\n",
    "    data_dict = pickle.load(f)\n",
    "print('Loading data!')\n",
    "\n",
    "# Label of each face in list vector, sort by order\n",
    "Y = [\"Quan\", \"Phuong\", \"Truong\", \"Thuan\", \"Phuc\"]"
   ]
  },
  {
   "cell_type": "code",
   "execution_count": null,
   "id": "78afafff",
   "metadata": {},
   "outputs": [
    {
     "name": "stdout",
     "output_type": "stream",
     "text": [
      "[1.2473661, 1.2569873, 1.2357959, 1.2830633, 1.2072278]\n",
      "[1.2436334, 1.2546296, 1.2296028, 1.2790265, 1.2038109]\n",
      "[1.2438802, 1.2550923, 1.2292236, 1.2798663, 1.2042859]\n",
      "[1.2449254, 1.2537478, 1.2317072, 1.2804013, 1.2026502]\n",
      "[1.2458845, 1.2550733, 1.2336241, 1.2819303, 1.2048359]\n",
      "[1.2457905, 1.255173, 1.2329592, 1.2818114, 1.2040175]\n",
      "[1.2453935, 1.2545784, 1.2330331, 1.2817262, 1.2040681]\n",
      "[1.2454023, 1.2548946, 1.2327586, 1.2812555, 1.2045068]\n",
      "[1.2441618, 1.2548863, 1.2313422, 1.2804757, 1.2048326]\n",
      "[1.2419926, 1.2531691, 1.2294226, 1.2788495, 1.2035195]\n",
      "[1.2421216, 1.2543745, 1.2285373, 1.279998, 1.2038865]\n",
      "[1.247474, 1.2571032, 1.2359573, 1.2847835, 1.2068417]\n",
      "[1.2474409, 1.2567801, 1.2369102, 1.2843302, 1.207229]\n",
      "[1.2431358, 1.2538434, 1.2299932, 1.2804582, 1.2024117]\n",
      "[1.2434009, 1.2540834, 1.2306973, 1.2809392, 1.2018653]\n",
      "[1.2438743, 1.2529274, 1.2325226, 1.2803047, 1.2010939]\n",
      "[1.2485433, 1.2573733, 1.238322, 1.2845376, 1.20608]\n",
      "[1.2462159, 1.2566553, 1.2354281, 1.2830412, 1.2062192]\n",
      "[1.2432708, 1.2534989, 1.2283312, 1.2791246, 1.2025058]\n",
      "[1.240801, 1.2522701, 1.226318, 1.2779468, 1.201907]\n",
      "[1.2452208, 1.2559521, 1.2340245, 1.2826446, 1.2069743]\n",
      "[1.2444967, 1.2549604, 1.2305267, 1.2798239, 1.2046914]\n",
      "[1.2464622, 1.2550824, 1.2334995, 1.2821366, 1.2045674]\n",
      "[1.2439274, 1.253382, 1.2318842, 1.278998, 1.2025833]\n",
      "[1.2532874, 1.2584203, 1.2450285, 1.2862811, 1.2144992]\n",
      "[1.2442389, 1.2528352, 1.2332579, 1.2799587, 1.2020726]\n",
      "[1.2420759, 1.2533764, 1.2278231, 1.2779589, 1.2020377]\n",
      "[1.2379446, 1.247899, 1.2196276, 1.2742687, 1.1938934]\n",
      "[1.2341484, 1.244886, 1.2136855, 1.2718165, 1.190313]\n",
      "[1.2366493, 1.2479695, 1.21747, 1.2732482, 1.1944166]\n",
      "[1.2380531, 1.2485713, 1.2206571, 1.2738072, 1.1950905]\n",
      "[1.2376065, 1.2489548, 1.2214987, 1.2752231, 1.1963173]\n",
      "[1.238806, 1.2506973, 1.2225184, 1.2765235, 1.1973855]\n",
      "[1.2376676, 1.2490596, 1.2212148, 1.2749559, 1.19499]\n",
      "[1.2373726, 1.2493095, 1.2205474, 1.2746422, 1.1958761]\n",
      "[1.240934, 1.2522215, 1.2254496, 1.2785286, 1.1991618]\n",
      "[1.2475761, 1.2585864, 1.2353379, 1.283375, 1.2084053]\n",
      "[1.2441149, 1.2522806, 1.23082, 1.2801107, 1.2014601]\n"
     ]
    }
   ],
   "source": [
    "# Opening a video source either file or webcam\n",
    "cap = cv2.VideoCapture(0)\n",
    "# Checking whether video source opened or not.\n",
    "if not cap.isOpened():\n",
    "    print('Video not opened!')\n",
    "\n",
    "\n",
    "# Operating until video source is present.\n",
    "while cap.isOpened():\n",
    "\n",
    "    _, frame  = cap.read()\n",
    "    ##############################\n",
    "\n",
    "    faces = detector.detect_faces(frame)\n",
    "    \n",
    "    for face in faces:\n",
    "        # Getting the co-ordinates of the bounding box.\n",
    "        x, y, w, h = face['box']\n",
    "        # Getting Region Of Image(ROI)\n",
    "        f_img = frame[y:y+h, x:x+w]\n",
    "        # Resizing the face in the shape of (self.width, self.height)\n",
    "        f_img = cv2.resize(f_img, (224, 224))\n",
    "        # Calling the helper function to get the label.\n",
    "        \n",
    "        ##################################\n",
    "        f_img = f_img.astype(np.float16).reshape((1, 224, 224, 3))\n",
    "        # Normalizing the data to reduce computing time and memory.\n",
    "        f_img /= 255.0\n",
    "        \n",
    "        feature = feature_extract(model, f_img)\n",
    "        dist = []\n",
    "        \n",
    "        # Calculating euclidean distance.\n",
    "        for vector in data_dict:\n",
    "            dist.append(get_euclidean(vector, feature))\n",
    "        \n",
    "        print(dist)\n",
    "        dist = np.array(dist)\n",
    "        # Getting the most similar face.\n",
    "        indx = np.argmin(dist)\n",
    "        \n",
    "        if dist[indx] < threshold:\n",
    "            label = Y[indx]\n",
    "        else:\n",
    "            label =  \"Opps!\" \n",
    "        ###################################\n",
    "        # Drawing rectangle and putting text on the bounding box of each fce\n",
    "        cv2.rectangle(frame, (x,y), (x+w, y+h), color, 2, line)\n",
    "        cv2.putText(frame, label, (x-3, y-3), font, 0.5, color, 1)\n",
    "    \n",
    "    ##############################\n",
    "    cv2.imshow('Frame', frame)\n",
    "\n",
    "    k = cv2.waitKey(1) & 0xFF\n",
    "\n",
    "    if k == 27 or k == ord('q'):\n",
    "        break\n",
    "            \n",
    "# Releasing the video source.\n",
    "cap.release()\n",
    "# Destroying all the windows utilised by the app.\n",
    "cv2.destroyAllWindows()"
   ]
  }
 ],
 "metadata": {
  "kernelspec": {
   "display_name": "Python 3",
   "language": "python",
   "name": "python3"
  },
  "language_info": {
   "codemirror_mode": {
    "name": "ipython",
    "version": 3
   },
   "file_extension": ".py",
   "mimetype": "text/x-python",
   "name": "python",
   "nbconvert_exporter": "python",
   "pygments_lexer": "ipython3",
   "version": "3.8.8"
  }
 },
 "nbformat": 4,
 "nbformat_minor": 5
}
