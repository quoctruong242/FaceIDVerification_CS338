{
 "cells": [
  {
   "cell_type": "markdown",
   "id": "af481b95",
   "metadata": {},
   "source": [
    "# Extracting Feature Of Faces to Vectors"
   ]
  },
  {
   "cell_type": "code",
   "execution_count": 1,
   "id": "4bb85d6c",
   "metadata": {},
   "outputs": [],
   "source": [
    "# example of using the vgg16 model as a feature extraction model\n",
    "from keras.preprocessing.image import load_img\n",
    "from keras.preprocessing.image import img_to_array\n",
    "from keras.applications.vgg16 import preprocess_input\n",
    "from keras.applications.vgg16 import decode_predictions\n",
    "from keras.applications.vgg16 import VGG16\n",
    "from keras.models import Model\n",
    "from pickle import dump\n",
    "import os\n",
    "import cv2\n",
    "import numpy as np"
   ]
  },
  {
   "cell_type": "code",
   "execution_count": 2,
   "id": "2c568894",
   "metadata": {},
   "outputs": [],
   "source": [
    "path = \"img_crop\"      # Folder contains image had detected and cropped face\n",
    "list_imgs = os.listdir(path)\n",
    "\n",
    "def preproces_image(path):\n",
    "    \n",
    "  # load an image from file\n",
    "    image = load_img(path, target_size=(224, 224))\n",
    "    image = image.resize((224,224))\n",
    "  # convert the image pixels to a numpy array\n",
    "    image = img_to_array(image)\n",
    "  # reshape data for the model\n",
    "  #image = image.reshape((1, image.shape[0], image.shape[1], image.shape[2]))\n",
    "    image = np.expand_dims(image, axis = 0)\n",
    "  # prepare the image for the VGG model\n",
    "    image = preprocess_input(image)\n",
    "    return image\n",
    "\n",
    "def feature_extract(model, image):\n",
    "    features = model.predict(image)[0]\n",
    "  # Vector normalization\n",
    "    features = features / np.linalg.norm(features)\n",
    "    return features\n",
    "\n",
    "# load model\n",
    "model = VGG16()\n",
    "# remove the output layer\n",
    "model = Model(inputs=model.inputs, outputs=model.layers[-2].output)"
   ]
  },
  {
   "cell_type": "code",
   "execution_count": 3,
   "id": "d36ec2a1",
   "metadata": {},
   "outputs": [
    {
     "name": "stdout",
     "output_type": "stream",
     "text": [
      "Extracting image:  0.jpg\n",
      "Extracting image:  1.jpg\n",
      "Extracting image:  2.jpg\n",
      "Extracting image:  3.jpg\n",
      "Extracting image:  4.jpg\n"
     ]
    }
   ],
   "source": [
    "list_vectors =[]\n",
    "for img in list_imgs:\n",
    "    \n",
    "    path_img = os.path.join(path, img)\n",
    "  \n",
    "    image = preproces_image(path_img)\n",
    "    print(\"Extracting image: \",img)\n",
    "    vector = feature_extract(model, image)\n",
    "    list_vectors.append(vector)"
   ]
  },
  {
   "cell_type": "code",
   "execution_count": 4,
   "id": "81e51c72",
   "metadata": {},
   "outputs": [
    {
     "name": "stdout",
     "output_type": "stream",
     "text": [
      "(4096,)\n"
     ]
    }
   ],
   "source": [
    "print(list_vectors[0].shape)"
   ]
  },
  {
   "cell_type": "code",
   "execution_count": 5,
   "id": "3a11b077",
   "metadata": {},
   "outputs": [],
   "source": [
    "# save to file\n",
    "path_save = \"vectors.pkl\"\n",
    "dump(list_vectors, open(path_save, 'wb'))"
   ]
  }
 ],
 "metadata": {
  "kernelspec": {
   "display_name": "Python 3",
   "language": "python",
   "name": "python3"
  },
  "language_info": {
   "codemirror_mode": {
    "name": "ipython",
    "version": 3
   },
   "file_extension": ".py",
   "mimetype": "text/x-python",
   "name": "python",
   "nbconvert_exporter": "python",
   "pygments_lexer": "ipython3",
   "version": "3.8.8"
  }
 },
 "nbformat": 4,
 "nbformat_minor": 5
}
