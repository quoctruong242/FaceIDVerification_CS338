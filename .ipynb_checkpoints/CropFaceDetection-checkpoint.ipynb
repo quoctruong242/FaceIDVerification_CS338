{
 "cells": [
  {
   "cell_type": "markdown",
   "id": "f9b1c2a9",
   "metadata": {},
   "source": [
    "# Croping Faces Were Detecting "
   ]
  },
  {
   "cell_type": "markdown",
   "id": "8c084a04",
   "metadata": {},
   "source": [
    "### Install necessary package"
   ]
  },
  {
   "cell_type": "code",
   "execution_count": null,
   "id": "fc9e8084",
   "metadata": {},
   "outputs": [],
   "source": [
    "!pip install mtcnn\n",
    "# Note! Skiping step when having this available package"
   ]
  },
  {
   "cell_type": "code",
   "execution_count": null,
   "id": "ba94da2e",
   "metadata": {},
   "outputs": [],
   "source": [
    "from mtcnn import MTCNN\n",
    "import cv2\n",
    "import matplotlib.pyplot as plt\n",
    "from matplotlib.pyplot import imshow\n",
    "\n",
    "def crop_image(image_path):\n",
    "    detector = MTCNN() \n",
    "    img=cv2.imread(image_path)\n",
    "\n",
    "    data = detector.detect_faces(img)\n",
    "    biggest=0\n",
    "    if data !=[]:\n",
    "        for faces in data:\n",
    "            box=faces['box']            \n",
    "            # calculate the area in the image\n",
    "            area = box[3]  * box[2]\n",
    "            if area>biggest:\n",
    "                biggest=area\n",
    "                bbox=box \n",
    "        bbox[0]= 0 if bbox[0]<0 else bbox[0]\n",
    "        bbox[1]= 0 if bbox[1]<0 else bbox[1]\n",
    "        img=img[bbox[1]: bbox[1]+bbox[3],bbox[0]: bbox[0]+ bbox[2]] \n",
    "        #img = cv2.cvtColor(img, cv2.COLOR_BGR2RGB) # convert from bgr to rgb\n",
    "        return (True, img) \n",
    "    else:\n",
    "        return (False, None)"
   ]
  },
  {
   "cell_type": "code",
   "execution_count": null,
   "id": "a6a53827",
   "metadata": {},
   "outputs": [],
   "source": [
    "import os\n",
    "path = \"data\"\n",
    "result_path = \"img_crop\"\n",
    "list_path = os.listdir(path)\n",
    "list_imgs = []\n",
    "for i in list_path:\n",
    "  list_imgs.append(os.path.join(path,i))\n",
    "\n",
    "\n",
    "index = 0\n",
    "for i in list_imgs:\n",
    "  img_path = i\n",
    "  status, img=crop_image(img_path)\n",
    "  temp_path = os.path.join(result_path, str(index))\n",
    "  #print(temp_path)\n",
    "  if status:\n",
    "    cv2.imwrite(temp_path + '.jpg', img)\n",
    "    #print(temp_path + '.jpg')\n",
    "    index +=1\n",
    "    cv2.waitKey(0)\n",
    "  else:\n",
    "      print('No facial image was detected')"
   ]
  },
  {
   "cell_type": "code",
   "execution_count": null,
   "id": "db7bab32",
   "metadata": {},
   "outputs": [],
   "source": [
    "print(list_imgs)"
   ]
  }
 ],
 "metadata": {
  "kernelspec": {
   "display_name": "Python 3",
   "language": "python",
   "name": "python3"
  },
  "language_info": {
   "codemirror_mode": {
    "name": "ipython",
    "version": 3
   },
   "file_extension": ".py",
   "mimetype": "text/x-python",
   "name": "python",
   "nbconvert_exporter": "python",
   "pygments_lexer": "ipython3",
   "version": "3.8.8"
  }
 },
 "nbformat": 4,
 "nbformat_minor": 5
}
